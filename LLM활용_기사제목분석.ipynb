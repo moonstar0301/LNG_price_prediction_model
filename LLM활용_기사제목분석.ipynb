{
  "nbformat": 4,
  "nbformat_minor": 0,
  "metadata": {
    "colab": {
      "provenance": []
    },
    "kernelspec": {
      "name": "python3",
      "display_name": "Python 3"
    },
    "language_info": {
      "name": "python"
    }
  },
  "cells": [
    {
      "cell_type": "code",
      "execution_count": 1,
      "metadata": {
        "id": "y8BZiSWsfSP1"
      },
      "outputs": [],
      "source": [
        "%%capture\n",
        "# update or install the necessary libraries\n",
        "!pip install --upgrade openai\n",
        "!pip install --upgrade langchain\n",
        "!pip install --upgrade python-dotenv"
      ]
    },
    {
      "cell_type": "code",
      "source": [
        "import openai\n",
        "import os\n",
        "import IPython\n",
        "import pandas as pd\n",
        "from langchain.llms import OpenAI"
      ],
      "metadata": {
        "id": "1Tohis-HfT2j"
      },
      "execution_count": 2,
      "outputs": []
    },
    {
      "cell_type": "code",
      "source": [
        "os.environ[\"OPENAI_API_KEY\"] = 'your_openai_key'\n",
        "openai.api_key = 'yout_openai_key'"
      ],
      "metadata": {
        "id": "kNDyHZxlfT4q"
      },
      "execution_count": 3,
      "outputs": []
    },
    {
      "cell_type": "code",
      "source": [
        "def generate_response(prompt):\n",
        "  # Call the OpenAI API to generate a response\n",
        "  response = openai.ChatCompletion.create(\n",
        "    model=\"gpt-3.5-turbo\",\n",
        "    messages=[{\"role\": \"system\", \"content\":\"You are an international commodity price expert.\"},{'role': 'user', 'content': prompt}],\n",
        "    max_tokens=256,\n",
        "    n=1,\n",
        "    temperature=0.7,\n",
        "    top_p=1,\n",
        "    frequency_penalty=0.0,\n",
        "    presence_penalty=0.0,\n",
        "  )\n",
        "    # Get the response text from the API response\n",
        "  response_text = response['choices'][0]['message']['content']\n",
        "\n",
        "  return response_text"
      ],
      "metadata": {
        "id": "tbiC6Eo2fT6v"
      },
      "execution_count": 4,
      "outputs": []
    },
    {
      "cell_type": "code",
      "source": [
        "def evaluate_headline(headline):\n",
        "\n",
        "  prompt = f\"\"\"\n",
        "  Answer “YES” if good news, “NO” if bad news, or “UNKNOWN\n",
        "  Is this headline good or bad for the LNG price in the term?\n",
        "  Let's work this out in a step by step way to be sure we have the right answer.\n",
        "  Please return the response as one of 'YES', 'NO', or 'UNKNOWN' only, and do not include any additional explanation.\n",
        "\n",
        "  Expected increase in LNG supply, implication of a sharp rise in domestic LNG prices\n",
        "  A: YES\n",
        "\n",
        "  Global energy transition movement, a major cause of LNG price increase\n",
        "  A: YES\n",
        "\n",
        "  Concerns of oversupply in the LNG market, price decrease forecast\n",
        "  A: NO\n",
        "\n",
        "  Increase in domestic LNG imports, expected price drop due to oversupply\n",
        "  A: NO\n",
        "\n",
        "  Domestic LNG technology research contributes to environmental protection\n",
        "  A: UNKNOWN\n",
        "\n",
        "  LNG power plants, a new driving force for local economic revitalization\n",
        "  A: UNKNOWN\n",
        "\n",
        "  LNG-powered ships, the future of an eco-friendly maritime industry\n",
        "  A: UNKNOWN\n",
        "\n",
        "\n",
        "  {headline}\n",
        "  A:\n",
        "\"\"\"\n",
        "\n",
        "  # few-shot learning and APE -> Self-Consistency\\\n",
        "  # 8 examples\n",
        "\n",
        "  response = generate_response(prompt)\n",
        "  return response"
      ],
      "metadata": {
        "id": "CK_OmrP9fT9E"
      },
      "execution_count": 5,
      "outputs": []
    },
    {
      "cell_type": "code",
      "source": [
        "df = pd.read_excel(r\"/content/drive/MyDrive/news_crawing.xlsx\")\n",
        "df.head()"
      ],
      "metadata": {
        "id": "kxdLSDLJqvue",
        "colab": {
          "base_uri": "https://localhost:8080/",
          "height": 206
        },
        "outputId": "3682cd7d-03f8-4bc5-d12a-74b4de0b498e"
      },
      "execution_count": 8,
      "outputs": [
        {
          "output_type": "execute_result",
          "data": {
            "text/plain": [
              "              Date                                              title\n",
              "0  October 4, 2019  Natural Gas Prices See Widespread Losses Despi...\n",
              "1  October 4, 2019  ‘Broad Diversity’ Seen in U.S. E&P Dealmaking ...\n",
              "2  October 3, 2019  November Natural Gas Futures Choppy After EIA ...\n",
              "3  October 3, 2019  NatGas Futures Slide Again Ahead of EIA Data; ...\n",
              "4  October 3, 2019  Higher Storage to Pressure ‘Very Resilient’ Na..."
            ],
            "text/html": [
              "\n",
              "\n",
              "  <div id=\"df-692660ed-b42f-4356-b431-c58383c86e97\">\n",
              "    <div class=\"colab-df-container\">\n",
              "      <div>\n",
              "<style scoped>\n",
              "    .dataframe tbody tr th:only-of-type {\n",
              "        vertical-align: middle;\n",
              "    }\n",
              "\n",
              "    .dataframe tbody tr th {\n",
              "        vertical-align: top;\n",
              "    }\n",
              "\n",
              "    .dataframe thead th {\n",
              "        text-align: right;\n",
              "    }\n",
              "</style>\n",
              "<table border=\"1\" class=\"dataframe\">\n",
              "  <thead>\n",
              "    <tr style=\"text-align: right;\">\n",
              "      <th></th>\n",
              "      <th>Date</th>\n",
              "      <th>title</th>\n",
              "    </tr>\n",
              "  </thead>\n",
              "  <tbody>\n",
              "    <tr>\n",
              "      <th>0</th>\n",
              "      <td>October 4, 2019</td>\n",
              "      <td>Natural Gas Prices See Widespread Losses Despi...</td>\n",
              "    </tr>\n",
              "    <tr>\n",
              "      <th>1</th>\n",
              "      <td>October 4, 2019</td>\n",
              "      <td>‘Broad Diversity’ Seen in U.S. E&amp;P Dealmaking ...</td>\n",
              "    </tr>\n",
              "    <tr>\n",
              "      <th>2</th>\n",
              "      <td>October 3, 2019</td>\n",
              "      <td>November Natural Gas Futures Choppy After EIA ...</td>\n",
              "    </tr>\n",
              "    <tr>\n",
              "      <th>3</th>\n",
              "      <td>October 3, 2019</td>\n",
              "      <td>NatGas Futures Slide Again Ahead of EIA Data; ...</td>\n",
              "    </tr>\n",
              "    <tr>\n",
              "      <th>4</th>\n",
              "      <td>October 3, 2019</td>\n",
              "      <td>Higher Storage to Pressure ‘Very Resilient’ Na...</td>\n",
              "    </tr>\n",
              "  </tbody>\n",
              "</table>\n",
              "</div>\n",
              "      <button class=\"colab-df-convert\" onclick=\"convertToInteractive('df-692660ed-b42f-4356-b431-c58383c86e97')\"\n",
              "              title=\"Convert this dataframe to an interactive table.\"\n",
              "              style=\"display:none;\">\n",
              "\n",
              "  <svg xmlns=\"http://www.w3.org/2000/svg\" height=\"24px\"viewBox=\"0 0 24 24\"\n",
              "       width=\"24px\">\n",
              "    <path d=\"M0 0h24v24H0V0z\" fill=\"none\"/>\n",
              "    <path d=\"M18.56 5.44l.94 2.06.94-2.06 2.06-.94-2.06-.94-.94-2.06-.94 2.06-2.06.94zm-11 1L8.5 8.5l.94-2.06 2.06-.94-2.06-.94L8.5 2.5l-.94 2.06-2.06.94zm10 10l.94 2.06.94-2.06 2.06-.94-2.06-.94-.94-2.06-.94 2.06-2.06.94z\"/><path d=\"M17.41 7.96l-1.37-1.37c-.4-.4-.92-.59-1.43-.59-.52 0-1.04.2-1.43.59L10.3 9.45l-7.72 7.72c-.78.78-.78 2.05 0 2.83L4 21.41c.39.39.9.59 1.41.59.51 0 1.02-.2 1.41-.59l7.78-7.78 2.81-2.81c.8-.78.8-2.07 0-2.86zM5.41 20L4 18.59l7.72-7.72 1.47 1.35L5.41 20z\"/>\n",
              "  </svg>\n",
              "      </button>\n",
              "\n",
              "\n",
              "\n",
              "    <div id=\"df-4d98b44f-b1e0-4a2e-bb18-31d88c6cfb71\">\n",
              "      <button class=\"colab-df-quickchart\" onclick=\"quickchart('df-4d98b44f-b1e0-4a2e-bb18-31d88c6cfb71')\"\n",
              "              title=\"Suggest charts.\"\n",
              "              style=\"display:none;\">\n",
              "\n",
              "<svg xmlns=\"http://www.w3.org/2000/svg\" height=\"24px\"viewBox=\"0 0 24 24\"\n",
              "     width=\"24px\">\n",
              "    <g>\n",
              "        <path d=\"M19 3H5c-1.1 0-2 .9-2 2v14c0 1.1.9 2 2 2h14c1.1 0 2-.9 2-2V5c0-1.1-.9-2-2-2zM9 17H7v-7h2v7zm4 0h-2V7h2v10zm4 0h-2v-4h2v4z\"/>\n",
              "    </g>\n",
              "</svg>\n",
              "      </button>\n",
              "    </div>\n",
              "\n",
              "<style>\n",
              "  .colab-df-quickchart {\n",
              "    background-color: #E8F0FE;\n",
              "    border: none;\n",
              "    border-radius: 50%;\n",
              "    cursor: pointer;\n",
              "    display: none;\n",
              "    fill: #1967D2;\n",
              "    height: 32px;\n",
              "    padding: 0 0 0 0;\n",
              "    width: 32px;\n",
              "  }\n",
              "\n",
              "  .colab-df-quickchart:hover {\n",
              "    background-color: #E2EBFA;\n",
              "    box-shadow: 0px 1px 2px rgba(60, 64, 67, 0.3), 0px 1px 3px 1px rgba(60, 64, 67, 0.15);\n",
              "    fill: #174EA6;\n",
              "  }\n",
              "\n",
              "  [theme=dark] .colab-df-quickchart {\n",
              "    background-color: #3B4455;\n",
              "    fill: #D2E3FC;\n",
              "  }\n",
              "\n",
              "  [theme=dark] .colab-df-quickchart:hover {\n",
              "    background-color: #434B5C;\n",
              "    box-shadow: 0px 1px 3px 1px rgba(0, 0, 0, 0.15);\n",
              "    filter: drop-shadow(0px 1px 2px rgba(0, 0, 0, 0.3));\n",
              "    fill: #FFFFFF;\n",
              "  }\n",
              "</style>\n",
              "\n",
              "    <script>\n",
              "      async function quickchart(key) {\n",
              "        const containerElement = document.querySelector('#' + key);\n",
              "        const charts = await google.colab.kernel.invokeFunction(\n",
              "            'suggestCharts', [key], {});\n",
              "      }\n",
              "    </script>\n",
              "\n",
              "      <script>\n",
              "\n",
              "function displayQuickchartButton(domScope) {\n",
              "  let quickchartButtonEl =\n",
              "    domScope.querySelector('#df-4d98b44f-b1e0-4a2e-bb18-31d88c6cfb71 button.colab-df-quickchart');\n",
              "  quickchartButtonEl.style.display =\n",
              "    google.colab.kernel.accessAllowed ? 'block' : 'none';\n",
              "}\n",
              "\n",
              "        displayQuickchartButton(document);\n",
              "      </script>\n",
              "      <style>\n",
              "    .colab-df-container {\n",
              "      display:flex;\n",
              "      flex-wrap:wrap;\n",
              "      gap: 12px;\n",
              "    }\n",
              "\n",
              "    .colab-df-convert {\n",
              "      background-color: #E8F0FE;\n",
              "      border: none;\n",
              "      border-radius: 50%;\n",
              "      cursor: pointer;\n",
              "      display: none;\n",
              "      fill: #1967D2;\n",
              "      height: 32px;\n",
              "      padding: 0 0 0 0;\n",
              "      width: 32px;\n",
              "    }\n",
              "\n",
              "    .colab-df-convert:hover {\n",
              "      background-color: #E2EBFA;\n",
              "      box-shadow: 0px 1px 2px rgba(60, 64, 67, 0.3), 0px 1px 3px 1px rgba(60, 64, 67, 0.15);\n",
              "      fill: #174EA6;\n",
              "    }\n",
              "\n",
              "    [theme=dark] .colab-df-convert {\n",
              "      background-color: #3B4455;\n",
              "      fill: #D2E3FC;\n",
              "    }\n",
              "\n",
              "    [theme=dark] .colab-df-convert:hover {\n",
              "      background-color: #434B5C;\n",
              "      box-shadow: 0px 1px 3px 1px rgba(0, 0, 0, 0.15);\n",
              "      filter: drop-shadow(0px 1px 2px rgba(0, 0, 0, 0.3));\n",
              "      fill: #FFFFFF;\n",
              "    }\n",
              "  </style>\n",
              "\n",
              "      <script>\n",
              "        const buttonEl =\n",
              "          document.querySelector('#df-692660ed-b42f-4356-b431-c58383c86e97 button.colab-df-convert');\n",
              "        buttonEl.style.display =\n",
              "          google.colab.kernel.accessAllowed ? 'block' : 'none';\n",
              "\n",
              "        async function convertToInteractive(key) {\n",
              "          const element = document.querySelector('#df-692660ed-b42f-4356-b431-c58383c86e97');\n",
              "          const dataTable =\n",
              "            await google.colab.kernel.invokeFunction('convertToInteractive',\n",
              "                                                     [key], {});\n",
              "          if (!dataTable) return;\n",
              "\n",
              "          const docLinkHtml = 'Like what you see? Visit the ' +\n",
              "            '<a target=\"_blank\" href=https://colab.research.google.com/notebooks/data_table.ipynb>data table notebook</a>'\n",
              "            + ' to learn more about interactive tables.';\n",
              "          element.innerHTML = '';\n",
              "          dataTable['output_type'] = 'display_data';\n",
              "          await google.colab.output.renderOutput(dataTable, element);\n",
              "          const docLink = document.createElement('div');\n",
              "          docLink.innerHTML = docLinkHtml;\n",
              "          element.appendChild(docLink);\n",
              "        }\n",
              "      </script>\n",
              "    </div>\n",
              "  </div>\n"
            ]
          },
          "metadata": {},
          "execution_count": 8
        }
      ]
    },
    {
      "cell_type": "code",
      "source": [
        "df.info()"
      ],
      "metadata": {
        "colab": {
          "base_uri": "https://localhost:8080/"
        },
        "id": "j16xWHK4XzWC",
        "outputId": "f47f46a9-432f-4a0f-ead3-634131e364c6"
      },
      "execution_count": 9,
      "outputs": [
        {
          "output_type": "stream",
          "name": "stdout",
          "text": [
            "<class 'pandas.core.frame.DataFrame'>\n",
            "RangeIndex: 6066 entries, 0 to 6065\n",
            "Data columns (total 2 columns):\n",
            " #   Column  Non-Null Count  Dtype \n",
            "---  ------  --------------  ----- \n",
            " 0   Date    6066 non-null   object\n",
            " 1   title   6066 non-null   object\n",
            "dtypes: object(2)\n",
            "memory usage: 94.9+ KB\n"
          ]
        }
      ]
    },
    {
      "cell_type": "code",
      "source": [
        "dfs = [df.iloc[i:i+100] for i in range(0, len(df), 100)]\n",
        "#GPT 3.5 turbo의 분당 토큰 수 제한때문에, 100개씩 나눠서 돌리는게 좋습니다."
      ],
      "metadata": {
        "id": "6WpKsxt2XrMx"
      },
      "execution_count": 10,
      "outputs": []
    },
    {
      "cell_type": "code",
      "source": [
        "df = dfs[60]\n",
        "df['Date'] = pd.to_datetime(df['Date'])\n",
        "\n",
        "  # Apply the function to each headline\n",
        "df[\"Sentiment\"] = df['title'].apply(evaluate_headline)\n",
        "\n",
        "  # Map the sentiment to ChatGPT score\n",
        "sentiment_to_score = {\"YES\": 1, \"NO\": -1, \"UNKNOWN\": 0}\n",
        "df[\"ChatGPT_Score\"] = df[\"Sentiment\"].map(sentiment_to_score)\n",
        "\n",
        "  # Extract the month from the date\n",
        "df['Month'] = df['Date'].dt.to_period('M')\n",
        "\n",
        "  # Group by month and calculate the sum of ChatGPT scores for each month\n",
        "monthly_scores = df.groupby('Month')['ChatGPT_Score'].sum().reset_index()\n",
        "\n",
        "print(monthly_scores)"
      ],
      "metadata": {
        "id": "XdnJDy8rk5fH",
        "colab": {
          "base_uri": "https://localhost:8080/"
        },
        "outputId": "c5827087-3f85-4c58-fa1b-ffaba49c6877"
      },
      "execution_count": 12,
      "outputs": [
        {
          "output_type": "stream",
          "name": "stdout",
          "text": [
            "     Month  ChatGPT_Score\n",
            "0  2013-08              0\n",
            "1  2013-09              0\n",
            "2  2013-10             -2\n"
          ]
        }
      ]
    }
  ]
}